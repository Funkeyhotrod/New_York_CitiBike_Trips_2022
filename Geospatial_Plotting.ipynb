{
 "cells": [
  {
   "cell_type": "markdown",
   "id": "5b2a4fe0-53d9-4332-aba2-aaa5c41c5bd7",
   "metadata": {},
   "source": [
    "## Part 2"
   ]
  },
  {
   "cell_type": "markdown",
   "id": "05b7ffb9-2458-4cab-8884-f866e21c2188",
   "metadata": {},
   "source": [
    " "
   ]
  },
  {
   "cell_type": "code",
   "execution_count": 4,
   "id": "dbb3c7f4-3eb8-4852-bef8-8208b7b3f4ed",
   "metadata": {},
   "outputs": [],
   "source": [
    "import pandas as pd\n",
    "import os\n",
    "from keplergl import KeplerGl\n",
    "from pyproj import CRS\n",
    "import numpy as np\n",
    "from matplotlib import pyplot as plt"
   ]
  },
  {
   "cell_type": "code",
   "execution_count": 6,
   "id": "2379aa9d-1b63-4007-b576-e5d6a1e4560c",
   "metadata": {},
   "outputs": [
    {
     "name": "stderr",
     "output_type": "stream",
     "text": [
      "C:\\Users\\aaron\\AppData\\Local\\Temp\\ipykernel_9840\\2076588821.py:1: DtypeWarning: Columns (6,8) have mixed types. Specify dtype option on import or set low_memory=False.\n",
      "  df = pd.read_csv('new_york_data.csv', index_col = 0)\n"
     ]
    }
   ],
   "source": [
    "df = pd.read_csv('new_york_data.csv', index_col = 0)"
   ]
  },
  {
   "cell_type": "code",
   "execution_count": 8,
   "id": "fd5a9051-18b3-4db1-917c-227c848c8bc0",
   "metadata": {},
   "outputs": [],
   "source": [
    "df.drop(columns = {'_merge'}, inplace = True)"
   ]
  },
  {
   "cell_type": "code",
   "execution_count": 10,
   "id": "4a88ed2d-5c42-402c-9831-420548b82f9d",
   "metadata": {},
   "outputs": [],
   "source": [
    "df = df.sort_values(by = 'date')"
   ]
  },
  {
   "cell_type": "code",
   "execution_count": 12,
   "id": "a36afa20-7130-4676-ad07-50d70bdda56e",
   "metadata": {},
   "outputs": [
    {
     "data": {
      "text/html": [
       "<div>\n",
       "<style scoped>\n",
       "    .dataframe tbody tr th:only-of-type {\n",
       "        vertical-align: middle;\n",
       "    }\n",
       "\n",
       "    .dataframe tbody tr th {\n",
       "        vertical-align: top;\n",
       "    }\n",
       "\n",
       "    .dataframe thead th {\n",
       "        text-align: right;\n",
       "    }\n",
       "</style>\n",
       "<table border=\"1\" class=\"dataframe\">\n",
       "  <thead>\n",
       "    <tr style=\"text-align: right;\">\n",
       "      <th></th>\n",
       "      <th>ride_id</th>\n",
       "      <th>rideable_type</th>\n",
       "      <th>started_at</th>\n",
       "      <th>ended_at</th>\n",
       "      <th>start_station_name</th>\n",
       "      <th>start_station_id</th>\n",
       "      <th>end_station_name</th>\n",
       "      <th>end_station_id</th>\n",
       "      <th>start_lat</th>\n",
       "      <th>start_lng</th>\n",
       "      <th>end_lat</th>\n",
       "      <th>end_lng</th>\n",
       "      <th>member_casual</th>\n",
       "      <th>date</th>\n",
       "      <th>avgTemp</th>\n",
       "    </tr>\n",
       "  </thead>\n",
       "  <tbody>\n",
       "    <tr>\n",
       "      <th>337491</th>\n",
       "      <td>FB33E3D8F21E2941</td>\n",
       "      <td>electric_bike</td>\n",
       "      <td>2022-01-01 01:49:37.374</td>\n",
       "      <td>2022-01-01 01:57:50.346</td>\n",
       "      <td>Canal St &amp; Rutgers St</td>\n",
       "      <td>5303.08</td>\n",
       "      <td>Norfolk St &amp; Broome St</td>\n",
       "      <td>5374.01</td>\n",
       "      <td>40.714275</td>\n",
       "      <td>-73.989900</td>\n",
       "      <td>40.717227</td>\n",
       "      <td>-73.988021</td>\n",
       "      <td>casual</td>\n",
       "      <td>2022-01-01</td>\n",
       "      <td>11.6</td>\n",
       "    </tr>\n",
       "    <tr>\n",
       "      <th>934741</th>\n",
       "      <td>755337295F178067</td>\n",
       "      <td>electric_bike</td>\n",
       "      <td>2022-01-01 03:21:09.754</td>\n",
       "      <td>2022-01-01 03:49:33.047</td>\n",
       "      <td>Lewis Ave &amp; Madison St</td>\n",
       "      <td>4425.02</td>\n",
       "      <td>Columbia St &amp; Degraw St</td>\n",
       "      <td>4422.04</td>\n",
       "      <td>40.686312</td>\n",
       "      <td>-73.935775</td>\n",
       "      <td>40.685930</td>\n",
       "      <td>-74.002424</td>\n",
       "      <td>member</td>\n",
       "      <td>2022-01-01</td>\n",
       "      <td>11.6</td>\n",
       "    </tr>\n",
       "    <tr>\n",
       "      <th>227204</th>\n",
       "      <td>C62CA87E3A475ADD</td>\n",
       "      <td>classic_bike</td>\n",
       "      <td>2022-01-01 08:38:18.156</td>\n",
       "      <td>2022-01-01 08:47:54.213</td>\n",
       "      <td>Carlton Ave &amp; Park Ave</td>\n",
       "      <td>4732.04</td>\n",
       "      <td>Emerson Pl &amp; Myrtle Ave</td>\n",
       "      <td>4683.02</td>\n",
       "      <td>40.695807</td>\n",
       "      <td>-73.973556</td>\n",
       "      <td>40.693631</td>\n",
       "      <td>-73.962236</td>\n",
       "      <td>casual</td>\n",
       "      <td>2022-01-01</td>\n",
       "      <td>11.6</td>\n",
       "    </tr>\n",
       "    <tr>\n",
       "      <th>913722</th>\n",
       "      <td>CD7A2098AFCD5514</td>\n",
       "      <td>classic_bike</td>\n",
       "      <td>2022-01-01 10:33:58.529</td>\n",
       "      <td>2022-01-01 10:47:05.197</td>\n",
       "      <td>W 100 St &amp; Broadway</td>\n",
       "      <td>7580.01</td>\n",
       "      <td>W 67 St &amp; Broadway</td>\n",
       "      <td>7116.04</td>\n",
       "      <td>40.797372</td>\n",
       "      <td>-73.970412</td>\n",
       "      <td>40.774925</td>\n",
       "      <td>-73.982666</td>\n",
       "      <td>casual</td>\n",
       "      <td>2022-01-01</td>\n",
       "      <td>11.6</td>\n",
       "    </tr>\n",
       "    <tr>\n",
       "      <th>127371</th>\n",
       "      <td>3F9E0C51F49F78A3</td>\n",
       "      <td>electric_bike</td>\n",
       "      <td>2022-01-01 20:05:19.592</td>\n",
       "      <td>2022-01-01 20:12:00.661</td>\n",
       "      <td>W 18 St &amp; 6 Ave</td>\n",
       "      <td>6064.08</td>\n",
       "      <td>W 42 St &amp; 6 Ave</td>\n",
       "      <td>6517.08</td>\n",
       "      <td>40.739713</td>\n",
       "      <td>-73.994564</td>\n",
       "      <td>40.754920</td>\n",
       "      <td>-73.984550</td>\n",
       "      <td>member</td>\n",
       "      <td>2022-01-01</td>\n",
       "      <td>11.6</td>\n",
       "    </tr>\n",
       "  </tbody>\n",
       "</table>\n",
       "</div>"
      ],
      "text/plain": [
       "                 ride_id  rideable_type               started_at  \\\n",
       "337491  FB33E3D8F21E2941  electric_bike  2022-01-01 01:49:37.374   \n",
       "934741  755337295F178067  electric_bike  2022-01-01 03:21:09.754   \n",
       "227204  C62CA87E3A475ADD   classic_bike  2022-01-01 08:38:18.156   \n",
       "913722  CD7A2098AFCD5514   classic_bike  2022-01-01 10:33:58.529   \n",
       "127371  3F9E0C51F49F78A3  electric_bike  2022-01-01 20:05:19.592   \n",
       "\n",
       "                       ended_at      start_station_name start_station_id  \\\n",
       "337491  2022-01-01 01:57:50.346   Canal St & Rutgers St          5303.08   \n",
       "934741  2022-01-01 03:49:33.047  Lewis Ave & Madison St          4425.02   \n",
       "227204  2022-01-01 08:47:54.213  Carlton Ave & Park Ave          4732.04   \n",
       "913722  2022-01-01 10:47:05.197     W 100 St & Broadway          7580.01   \n",
       "127371  2022-01-01 20:12:00.661         W 18 St & 6 Ave          6064.08   \n",
       "\n",
       "               end_station_name end_station_id  start_lat  start_lng  \\\n",
       "337491   Norfolk St & Broome St        5374.01  40.714275 -73.989900   \n",
       "934741  Columbia St & Degraw St        4422.04  40.686312 -73.935775   \n",
       "227204  Emerson Pl & Myrtle Ave        4683.02  40.695807 -73.973556   \n",
       "913722       W 67 St & Broadway        7116.04  40.797372 -73.970412   \n",
       "127371          W 42 St & 6 Ave        6517.08  40.739713 -73.994564   \n",
       "\n",
       "          end_lat    end_lng member_casual        date  avgTemp  \n",
       "337491  40.717227 -73.988021        casual  2022-01-01     11.6  \n",
       "934741  40.685930 -74.002424        member  2022-01-01     11.6  \n",
       "227204  40.693631 -73.962236        casual  2022-01-01     11.6  \n",
       "913722  40.774925 -73.982666        casual  2022-01-01     11.6  \n",
       "127371  40.754920 -73.984550        member  2022-01-01     11.6  "
      ]
     },
     "execution_count": 12,
     "metadata": {},
     "output_type": "execute_result"
    }
   ],
   "source": [
    "df.head()"
   ]
  },
  {
   "cell_type": "code",
   "execution_count": 14,
   "id": "ae4eabfb-4ca4-4085-b619-ae65cb57fe4a",
   "metadata": {},
   "outputs": [
    {
     "data": {
      "text/plain": [
       "(29838166, 15)"
      ]
     },
     "execution_count": 14,
     "metadata": {},
     "output_type": "execute_result"
    }
   ],
   "source": [
    "df.shape"
   ]
  },
  {
   "cell_type": "markdown",
   "id": "b1562bf5-f6ee-4fae-9241-0a0c2fc06568",
   "metadata": {},
   "source": [
    "## Part 3"
   ]
  },
  {
   "cell_type": "markdown",
   "id": "b07366c8-2e08-4400-8130-84146ea94010",
   "metadata": {},
   "source": [
    " "
   ]
  },
  {
   "cell_type": "code",
   "execution_count": 18,
   "id": "d1b03b5a-6469-4c42-be2c-b8dd48a01438",
   "metadata": {},
   "outputs": [],
   "source": [
    "# Create a value column and group by start and end station \n",
    "\n",
    "df['value'] = 1\n",
    "df_group = df.groupby(['start_station_name', 'end_station_name'])['value'].count().reset_index()"
   ]
  },
  {
   "cell_type": "code",
   "execution_count": 20,
   "id": "37ff71b2-145c-4730-b42a-80a9fc3066db",
   "metadata": {},
   "outputs": [],
   "source": [
    "df_group.rename(columns = {'value': 'trips'}, inplace = True)"
   ]
  },
  {
   "cell_type": "code",
   "execution_count": 22,
   "id": "8411674a-2fac-43d6-bb09-15ba381f3356",
   "metadata": {},
   "outputs": [
    {
     "data": {
      "text/html": [
       "<div>\n",
       "<style scoped>\n",
       "    .dataframe tbody tr th:only-of-type {\n",
       "        vertical-align: middle;\n",
       "    }\n",
       "\n",
       "    .dataframe tbody tr th {\n",
       "        vertical-align: top;\n",
       "    }\n",
       "\n",
       "    .dataframe thead th {\n",
       "        text-align: right;\n",
       "    }\n",
       "</style>\n",
       "<table border=\"1\" class=\"dataframe\">\n",
       "  <thead>\n",
       "    <tr style=\"text-align: right;\">\n",
       "      <th></th>\n",
       "      <th>start_station_name</th>\n",
       "      <th>end_station_name</th>\n",
       "      <th>trips</th>\n",
       "    </tr>\n",
       "  </thead>\n",
       "  <tbody>\n",
       "    <tr>\n",
       "      <th>0</th>\n",
       "      <td>1 Ave &amp; E 110 St</td>\n",
       "      <td>1 Ave &amp; E 110 St</td>\n",
       "      <td>791</td>\n",
       "    </tr>\n",
       "    <tr>\n",
       "      <th>1</th>\n",
       "      <td>1 Ave &amp; E 110 St</td>\n",
       "      <td>1 Ave &amp; E 18 St</td>\n",
       "      <td>2</td>\n",
       "    </tr>\n",
       "    <tr>\n",
       "      <th>2</th>\n",
       "      <td>1 Ave &amp; E 110 St</td>\n",
       "      <td>1 Ave &amp; E 30 St</td>\n",
       "      <td>4</td>\n",
       "    </tr>\n",
       "    <tr>\n",
       "      <th>3</th>\n",
       "      <td>1 Ave &amp; E 110 St</td>\n",
       "      <td>1 Ave &amp; E 39 St</td>\n",
       "      <td>1</td>\n",
       "    </tr>\n",
       "    <tr>\n",
       "      <th>4</th>\n",
       "      <td>1 Ave &amp; E 110 St</td>\n",
       "      <td>1 Ave &amp; E 44 St</td>\n",
       "      <td>12</td>\n",
       "    </tr>\n",
       "  </tbody>\n",
       "</table>\n",
       "</div>"
      ],
      "text/plain": [
       "  start_station_name  end_station_name  trips\n",
       "0   1 Ave & E 110 St  1 Ave & E 110 St    791\n",
       "1   1 Ave & E 110 St   1 Ave & E 18 St      2\n",
       "2   1 Ave & E 110 St   1 Ave & E 30 St      4\n",
       "3   1 Ave & E 110 St   1 Ave & E 39 St      1\n",
       "4   1 Ave & E 110 St   1 Ave & E 44 St     12"
      ]
     },
     "execution_count": 22,
     "metadata": {},
     "output_type": "execute_result"
    }
   ],
   "source": [
    "df_group.head()"
   ]
  },
  {
   "cell_type": "code",
   "execution_count": 24,
   "id": "d9b40e80-1b5d-4b02-9b79-8a4175a45320",
   "metadata": {},
   "outputs": [
    {
     "data": {
      "text/plain": [
       "(1013397, 3)"
      ]
     },
     "execution_count": 24,
     "metadata": {},
     "output_type": "execute_result"
    }
   ],
   "source": [
    "df_group.shape"
   ]
  },
  {
   "cell_type": "code",
   "execution_count": 26,
   "id": "7b79f7dd-56da-4f49-b7a1-ac99374c4fbf",
   "metadata": {},
   "outputs": [],
   "source": [
    "# Creating and merging subsets into the dataframe above\n",
    "\n",
    "df_sub1 = df[['start_station_name', 'start_lat', 'start_lng']]"
   ]
  },
  {
   "cell_type": "code",
   "execution_count": 30,
   "id": "29b59e39-fd78-42e5-843d-51946013ff2b",
   "metadata": {},
   "outputs": [],
   "source": [
    "df_sub1 = df_sub1.drop_duplicates()"
   ]
  },
  {
   "cell_type": "code",
   "execution_count": 32,
   "id": "99340281-069b-44d3-a43c-4ead6079cf5c",
   "metadata": {},
   "outputs": [
    {
     "data": {
      "text/html": [
       "<div>\n",
       "<style scoped>\n",
       "    .dataframe tbody tr th:only-of-type {\n",
       "        vertical-align: middle;\n",
       "    }\n",
       "\n",
       "    .dataframe tbody tr th {\n",
       "        vertical-align: top;\n",
       "    }\n",
       "\n",
       "    .dataframe thead th {\n",
       "        text-align: right;\n",
       "    }\n",
       "</style>\n",
       "<table border=\"1\" class=\"dataframe\">\n",
       "  <thead>\n",
       "    <tr style=\"text-align: right;\">\n",
       "      <th></th>\n",
       "      <th>start_station_name</th>\n",
       "      <th>start_lat</th>\n",
       "      <th>start_lng</th>\n",
       "    </tr>\n",
       "  </thead>\n",
       "  <tbody>\n",
       "    <tr>\n",
       "      <th>337491</th>\n",
       "      <td>Canal St &amp; Rutgers St</td>\n",
       "      <td>40.714275</td>\n",
       "      <td>-73.989900</td>\n",
       "    </tr>\n",
       "    <tr>\n",
       "      <th>934741</th>\n",
       "      <td>Lewis Ave &amp; Madison St</td>\n",
       "      <td>40.686312</td>\n",
       "      <td>-73.935775</td>\n",
       "    </tr>\n",
       "    <tr>\n",
       "      <th>227204</th>\n",
       "      <td>Carlton Ave &amp; Park Ave</td>\n",
       "      <td>40.695807</td>\n",
       "      <td>-73.973556</td>\n",
       "    </tr>\n",
       "    <tr>\n",
       "      <th>913722</th>\n",
       "      <td>W 100 St &amp; Broadway</td>\n",
       "      <td>40.797372</td>\n",
       "      <td>-73.970412</td>\n",
       "    </tr>\n",
       "    <tr>\n",
       "      <th>127371</th>\n",
       "      <td>W 18 St &amp; 6 Ave</td>\n",
       "      <td>40.739713</td>\n",
       "      <td>-73.994564</td>\n",
       "    </tr>\n",
       "  </tbody>\n",
       "</table>\n",
       "</div>"
      ],
      "text/plain": [
       "            start_station_name  start_lat  start_lng\n",
       "337491   Canal St & Rutgers St  40.714275 -73.989900\n",
       "934741  Lewis Ave & Madison St  40.686312 -73.935775\n",
       "227204  Carlton Ave & Park Ave  40.695807 -73.973556\n",
       "913722     W 100 St & Broadway  40.797372 -73.970412\n",
       "127371         W 18 St & 6 Ave  40.739713 -73.994564"
      ]
     },
     "execution_count": 32,
     "metadata": {},
     "output_type": "execute_result"
    }
   ],
   "source": [
    "df_sub1.head()"
   ]
  },
  {
   "cell_type": "code",
   "execution_count": 34,
   "id": "fb380ebb-e09c-444c-b60d-d8cf3752c939",
   "metadata": {},
   "outputs": [
    {
     "data": {
      "text/plain": [
       "(4067371, 3)"
      ]
     },
     "execution_count": 34,
     "metadata": {},
     "output_type": "execute_result"
    }
   ],
   "source": [
    "df_sub1.shape"
   ]
  },
  {
   "cell_type": "code",
   "execution_count": 36,
   "id": "9bbc3d99-7d1d-4732-b04b-a8c99d8a865d",
   "metadata": {},
   "outputs": [
    {
     "name": "stdout",
     "output_type": "stream",
     "text": [
      "1761\n"
     ]
    }
   ],
   "source": [
    "print(df_sub1['start_station_name'].nunique())"
   ]
  },
  {
   "cell_type": "code",
   "execution_count": 40,
   "id": "d89df6c3-7909-4c02-a7d3-b598c3926b0b",
   "metadata": {},
   "outputs": [
    {
     "name": "stderr",
     "output_type": "stream",
     "text": [
      "C:\\Users\\aaron\\AppData\\Local\\Temp\\ipykernel_9840\\1577166103.py:3: FutureWarning: The provided callable <function mean at 0x00000295EE48CD60> is currently using SeriesGroupBy.mean. In a future version of pandas, the provided callable will be used directly. To keep current behavior pass the string \"mean\" instead.\n",
      "  df_sub1['start_lat+'] = df_sub1.groupby(['start_station_name'])['start_lat'].transform(np.mean)\n"
     ]
    }
   ],
   "source": [
    "# Adding new columns to standardize latitude and longitude\n",
    "\n",
    "df_sub1['start_lat+'] = df_sub1.groupby(['start_station_name'])['start_lat'].transform(np.mean)"
   ]
  },
  {
   "cell_type": "code",
   "execution_count": 42,
   "id": "f774b70b-034f-46b7-a416-70500ce8bb30",
   "metadata": {},
   "outputs": [
    {
     "name": "stderr",
     "output_type": "stream",
     "text": [
      "C:\\Users\\aaron\\AppData\\Local\\Temp\\ipykernel_9840\\2927703104.py:1: FutureWarning: The provided callable <function mean at 0x00000295EE48CD60> is currently using SeriesGroupBy.mean. In a future version of pandas, the provided callable will be used directly. To keep current behavior pass the string \"mean\" instead.\n",
      "  df_sub1['start_lon'] = df_sub1.groupby(['start_station_name'])['start_lng'].transform(np.mean)\n"
     ]
    }
   ],
   "source": [
    "df_sub1['start_lon'] = df_sub1.groupby(['start_station_name'])['start_lng'].transform(np.mean)"
   ]
  },
  {
   "cell_type": "code",
   "execution_count": 44,
   "id": "97a76b92-41a0-4f97-882e-982cfa329d1d",
   "metadata": {},
   "outputs": [],
   "source": [
    "# Removing redundant columns\n",
    "\n",
    "df_sub1.drop(columns = {'start_lat', 'start_lng'}, inplace = True)\n",
    "\n",
    "df_sub1.rename(columns = {'start_lat+': 'start_lat'}, inplace = True)"
   ]
  },
  {
   "cell_type": "code",
   "execution_count": 50,
   "id": "96772cb4-6e6e-47c5-8404-6d1f10eda9c2",
   "metadata": {},
   "outputs": [],
   "source": [
    "df_sub1 = df_sub1.drop_duplicates()"
   ]
  },
  {
   "cell_type": "code",
   "execution_count": 52,
   "id": "9e52dd09-5825-4d1f-91ef-3db9e0ff7fde",
   "metadata": {},
   "outputs": [
    {
     "data": {
      "text/html": [
       "<div>\n",
       "<style scoped>\n",
       "    .dataframe tbody tr th:only-of-type {\n",
       "        vertical-align: middle;\n",
       "    }\n",
       "\n",
       "    .dataframe tbody tr th {\n",
       "        vertical-align: top;\n",
       "    }\n",
       "\n",
       "    .dataframe thead th {\n",
       "        text-align: right;\n",
       "    }\n",
       "</style>\n",
       "<table border=\"1\" class=\"dataframe\">\n",
       "  <thead>\n",
       "    <tr style=\"text-align: right;\">\n",
       "      <th></th>\n",
       "      <th>start_station_name</th>\n",
       "      <th>start_lat</th>\n",
       "      <th>start_lon</th>\n",
       "    </tr>\n",
       "  </thead>\n",
       "  <tbody>\n",
       "    <tr>\n",
       "      <th>337491</th>\n",
       "      <td>Canal St &amp; Rutgers St</td>\n",
       "      <td>40.714307</td>\n",
       "      <td>-73.989912</td>\n",
       "    </tr>\n",
       "    <tr>\n",
       "      <th>934741</th>\n",
       "      <td>Lewis Ave &amp; Madison St</td>\n",
       "      <td>40.686232</td>\n",
       "      <td>-73.935735</td>\n",
       "    </tr>\n",
       "    <tr>\n",
       "      <th>227204</th>\n",
       "      <td>Carlton Ave &amp; Park Ave</td>\n",
       "      <td>40.695720</td>\n",
       "      <td>-73.973530</td>\n",
       "    </tr>\n",
       "    <tr>\n",
       "      <th>913722</th>\n",
       "      <td>W 100 St &amp; Broadway</td>\n",
       "      <td>40.797374</td>\n",
       "      <td>-73.970347</td>\n",
       "    </tr>\n",
       "    <tr>\n",
       "      <th>127371</th>\n",
       "      <td>W 18 St &amp; 6 Ave</td>\n",
       "      <td>40.739635</td>\n",
       "      <td>-73.994569</td>\n",
       "    </tr>\n",
       "  </tbody>\n",
       "</table>\n",
       "</div>"
      ],
      "text/plain": [
       "            start_station_name  start_lat  start_lon\n",
       "337491   Canal St & Rutgers St  40.714307 -73.989912\n",
       "934741  Lewis Ave & Madison St  40.686232 -73.935735\n",
       "227204  Carlton Ave & Park Ave  40.695720 -73.973530\n",
       "913722     W 100 St & Broadway  40.797374 -73.970347\n",
       "127371         W 18 St & 6 Ave  40.739635 -73.994569"
      ]
     },
     "execution_count": 52,
     "metadata": {},
     "output_type": "execute_result"
    }
   ],
   "source": [
    "df_sub1.head()"
   ]
  },
  {
   "cell_type": "code",
   "execution_count": 54,
   "id": "8df3f45f-1d8d-43bc-a61d-f19d245af7f0",
   "metadata": {},
   "outputs": [
    {
     "data": {
      "text/plain": [
       "(1762, 3)"
      ]
     },
     "execution_count": 54,
     "metadata": {},
     "output_type": "execute_result"
    }
   ],
   "source": [
    "df_sub1.shape"
   ]
  },
  {
   "cell_type": "code",
   "execution_count": 56,
   "id": "f44ddb82-b2c9-4e03-9e99-8328b6882b6c",
   "metadata": {},
   "outputs": [],
   "source": [
    "# Repeating previous steps for the second subset\n",
    "\n",
    "df_sub2 = df[['end_station_name', 'end_lat', 'end_lng']]"
   ]
  },
  {
   "cell_type": "code",
   "execution_count": 58,
   "id": "60cb64e7-dc84-43c9-9f5d-ea07e4447797",
   "metadata": {},
   "outputs": [],
   "source": [
    "df_sub2 = df_sub2.drop_duplicates()"
   ]
  },
  {
   "cell_type": "code",
   "execution_count": 60,
   "id": "89aaf0a2-7fb6-4c1e-b38d-a5b07d5da5a2",
   "metadata": {},
   "outputs": [
    {
     "data": {
      "text/html": [
       "<div>\n",
       "<style scoped>\n",
       "    .dataframe tbody tr th:only-of-type {\n",
       "        vertical-align: middle;\n",
       "    }\n",
       "\n",
       "    .dataframe tbody tr th {\n",
       "        vertical-align: top;\n",
       "    }\n",
       "\n",
       "    .dataframe thead th {\n",
       "        text-align: right;\n",
       "    }\n",
       "</style>\n",
       "<table border=\"1\" class=\"dataframe\">\n",
       "  <thead>\n",
       "    <tr style=\"text-align: right;\">\n",
       "      <th></th>\n",
       "      <th>end_station_name</th>\n",
       "      <th>end_lat</th>\n",
       "      <th>end_lng</th>\n",
       "    </tr>\n",
       "  </thead>\n",
       "  <tbody>\n",
       "    <tr>\n",
       "      <th>337491</th>\n",
       "      <td>Norfolk St &amp; Broome St</td>\n",
       "      <td>40.717227</td>\n",
       "      <td>-73.988021</td>\n",
       "    </tr>\n",
       "    <tr>\n",
       "      <th>934741</th>\n",
       "      <td>Columbia St &amp; Degraw St</td>\n",
       "      <td>40.685930</td>\n",
       "      <td>-74.002424</td>\n",
       "    </tr>\n",
       "    <tr>\n",
       "      <th>227204</th>\n",
       "      <td>Emerson Pl &amp; Myrtle Ave</td>\n",
       "      <td>40.693631</td>\n",
       "      <td>-73.962236</td>\n",
       "    </tr>\n",
       "    <tr>\n",
       "      <th>913722</th>\n",
       "      <td>W 67 St &amp; Broadway</td>\n",
       "      <td>40.774925</td>\n",
       "      <td>-73.982666</td>\n",
       "    </tr>\n",
       "    <tr>\n",
       "      <th>127371</th>\n",
       "      <td>W 42 St &amp; 6 Ave</td>\n",
       "      <td>40.754920</td>\n",
       "      <td>-73.984550</td>\n",
       "    </tr>\n",
       "  </tbody>\n",
       "</table>\n",
       "</div>"
      ],
      "text/plain": [
       "               end_station_name    end_lat    end_lng\n",
       "337491   Norfolk St & Broome St  40.717227 -73.988021\n",
       "934741  Columbia St & Degraw St  40.685930 -74.002424\n",
       "227204  Emerson Pl & Myrtle Ave  40.693631 -73.962236\n",
       "913722       W 67 St & Broadway  40.774925 -73.982666\n",
       "127371          W 42 St & 6 Ave  40.754920 -73.984550"
      ]
     },
     "execution_count": 60,
     "metadata": {},
     "output_type": "execute_result"
    }
   ],
   "source": [
    "df_sub2.head()"
   ]
  },
  {
   "cell_type": "code",
   "execution_count": 62,
   "id": "d51c4009-303c-41f3-a005-637225afc915",
   "metadata": {},
   "outputs": [
    {
     "data": {
      "text/plain": [
       "(3205, 3)"
      ]
     },
     "execution_count": 62,
     "metadata": {},
     "output_type": "execute_result"
    }
   ],
   "source": [
    "df_sub2.shape"
   ]
  },
  {
   "cell_type": "code",
   "execution_count": 64,
   "id": "661c1af1-beeb-4c9d-ab7b-38a1629bdbad",
   "metadata": {},
   "outputs": [
    {
     "name": "stdout",
     "output_type": "stream",
     "text": [
      "1841\n"
     ]
    }
   ],
   "source": [
    "print(df_sub2['end_station_name'].nunique())"
   ]
  },
  {
   "cell_type": "code",
   "execution_count": 66,
   "id": "1d1a667d-f3f7-4de5-8dfc-baaf4a42eb36",
   "metadata": {},
   "outputs": [
    {
     "name": "stderr",
     "output_type": "stream",
     "text": [
      "C:\\Users\\aaron\\AppData\\Local\\Temp\\ipykernel_9840\\3489016560.py:3: FutureWarning: The provided callable <function mean at 0x00000295EE48CD60> is currently using SeriesGroupBy.mean. In a future version of pandas, the provided callable will be used directly. To keep current behavior pass the string \"mean\" instead.\n",
      "  df_sub2['end_lat+'] = df_sub2.groupby(['end_station_name'])['end_lat'].transform(np.mean)\n"
     ]
    }
   ],
   "source": [
    "# Adding new columns to standardize latitude and longitude\n",
    "\n",
    "df_sub2['end_lat+'] = df_sub2.groupby(['end_station_name'])['end_lat'].transform(np.mean)"
   ]
  },
  {
   "cell_type": "code",
   "execution_count": 68,
   "id": "b0f87b27-5c80-49fe-8b34-6f7b6461e2bb",
   "metadata": {},
   "outputs": [
    {
     "name": "stderr",
     "output_type": "stream",
     "text": [
      "C:\\Users\\aaron\\AppData\\Local\\Temp\\ipykernel_9840\\766103063.py:1: FutureWarning: The provided callable <function mean at 0x00000295EE48CD60> is currently using SeriesGroupBy.mean. In a future version of pandas, the provided callable will be used directly. To keep current behavior pass the string \"mean\" instead.\n",
      "  df_sub2['end_lon'] = df_sub2.groupby(['end_station_name'])['end_lng'].transform(np.mean)\n"
     ]
    }
   ],
   "source": [
    "df_sub2['end_lon'] = df_sub2.groupby(['end_station_name'])['end_lng'].transform(np.mean)"
   ]
  },
  {
   "cell_type": "code",
   "execution_count": 70,
   "id": "9e792377-3a14-41e5-a790-bf12eed12f01",
   "metadata": {},
   "outputs": [],
   "source": [
    "# Removing redundant columns\n",
    "\n",
    "df_sub2.drop(columns = {'end_lat', 'end_lng'}, inplace = True)\n",
    "\n",
    "df_sub2.rename(columns = {'end_lat+': 'end_lat'}, inplace = True)"
   ]
  },
  {
   "cell_type": "code",
   "execution_count": 72,
   "id": "af5fdac0-4ba8-4e44-afbb-2e6705845597",
   "metadata": {},
   "outputs": [],
   "source": [
    "df_sub2 = df_sub2.drop_duplicates()"
   ]
  },
  {
   "cell_type": "code",
   "execution_count": 74,
   "id": "84ebafa3-889f-4095-8fe4-31342abf7d72",
   "metadata": {},
   "outputs": [
    {
     "data": {
      "text/html": [
       "<div>\n",
       "<style scoped>\n",
       "    .dataframe tbody tr th:only-of-type {\n",
       "        vertical-align: middle;\n",
       "    }\n",
       "\n",
       "    .dataframe tbody tr th {\n",
       "        vertical-align: top;\n",
       "    }\n",
       "\n",
       "    .dataframe thead th {\n",
       "        text-align: right;\n",
       "    }\n",
       "</style>\n",
       "<table border=\"1\" class=\"dataframe\">\n",
       "  <thead>\n",
       "    <tr style=\"text-align: right;\">\n",
       "      <th></th>\n",
       "      <th>end_station_name</th>\n",
       "      <th>end_lat</th>\n",
       "      <th>end_lon</th>\n",
       "    </tr>\n",
       "  </thead>\n",
       "  <tbody>\n",
       "    <tr>\n",
       "      <th>337491</th>\n",
       "      <td>Norfolk St &amp; Broome St</td>\n",
       "      <td>40.717227</td>\n",
       "      <td>-73.988021</td>\n",
       "    </tr>\n",
       "    <tr>\n",
       "      <th>934741</th>\n",
       "      <td>Columbia St &amp; Degraw St</td>\n",
       "      <td>40.685930</td>\n",
       "      <td>-74.002424</td>\n",
       "    </tr>\n",
       "    <tr>\n",
       "      <th>227204</th>\n",
       "      <td>Emerson Pl &amp; Myrtle Ave</td>\n",
       "      <td>40.693631</td>\n",
       "      <td>-73.962236</td>\n",
       "    </tr>\n",
       "    <tr>\n",
       "      <th>913722</th>\n",
       "      <td>W 67 St &amp; Broadway</td>\n",
       "      <td>40.774925</td>\n",
       "      <td>-73.982666</td>\n",
       "    </tr>\n",
       "    <tr>\n",
       "      <th>127371</th>\n",
       "      <td>W 42 St &amp; 6 Ave</td>\n",
       "      <td>40.754920</td>\n",
       "      <td>-73.984550</td>\n",
       "    </tr>\n",
       "  </tbody>\n",
       "</table>\n",
       "</div>"
      ],
      "text/plain": [
       "               end_station_name    end_lat    end_lon\n",
       "337491   Norfolk St & Broome St  40.717227 -73.988021\n",
       "934741  Columbia St & Degraw St  40.685930 -74.002424\n",
       "227204  Emerson Pl & Myrtle Ave  40.693631 -73.962236\n",
       "913722       W 67 St & Broadway  40.774925 -73.982666\n",
       "127371          W 42 St & 6 Ave  40.754920 -73.984550"
      ]
     },
     "execution_count": 74,
     "metadata": {},
     "output_type": "execute_result"
    }
   ],
   "source": [
    "df_sub2.head()"
   ]
  },
  {
   "cell_type": "code",
   "execution_count": 76,
   "id": "6e652baf-07fc-4815-b4fa-02a34322c528",
   "metadata": {},
   "outputs": [
    {
     "data": {
      "text/plain": [
       "(1842, 3)"
      ]
     },
     "execution_count": 76,
     "metadata": {},
     "output_type": "execute_result"
    }
   ],
   "source": [
    "df_sub2.shape"
   ]
  },
  {
   "cell_type": "code",
   "execution_count": 79,
   "id": "67b94dca-5b68-46c2-8a26-98ff1e69ef61",
   "metadata": {},
   "outputs": [],
   "source": [
    "# Merging dataframes\n",
    "\n",
    "df_m = df_group.merge(df_sub1, how = 'outer', on = \"start_station_name\", indicator = True)"
   ]
  },
  {
   "cell_type": "code",
   "execution_count": 82,
   "id": "0b620403-ed44-4de2-963a-077fb1803283",
   "metadata": {},
   "outputs": [
    {
     "data": {
      "text/plain": [
       "_merge\n",
       "both          1013397\n",
       "right_only          1\n",
       "left_only           0\n",
       "Name: count, dtype: int64"
      ]
     },
     "execution_count": 82,
     "metadata": {},
     "output_type": "execute_result"
    }
   ],
   "source": [
    "df_m['_merge'].value_counts(dropna = False)"
   ]
  },
  {
   "cell_type": "code",
   "execution_count": 85,
   "id": "e882bdb7-e2a0-4396-b659-0ab7e94e53c4",
   "metadata": {},
   "outputs": [],
   "source": [
    "df_m = df_m[df_m['_merge'] =='both']"
   ]
  },
  {
   "cell_type": "code",
   "execution_count": 88,
   "id": "ffb73831-d255-45ff-9ce9-8a74fc1fbf11",
   "metadata": {},
   "outputs": [],
   "source": [
    "df_m.drop(columns = {'_merge'}, inplace = True)"
   ]
  },
  {
   "cell_type": "code",
   "execution_count": 91,
   "id": "7578d915-40d0-4fd6-9265-8047f370ef62",
   "metadata": {},
   "outputs": [],
   "source": [
    "df_f = df_m.merge(df_sub2, how = 'outer', on = \"end_station_name\", indicator = True)"
   ]
  },
  {
   "cell_type": "code",
   "execution_count": 93,
   "id": "36e0f863-3ccd-4367-a939-7d11435ebdf3",
   "metadata": {},
   "outputs": [
    {
     "data": {
      "text/plain": [
       "_merge\n",
       "both          1013397\n",
       "right_only          1\n",
       "left_only           0\n",
       "Name: count, dtype: int64"
      ]
     },
     "execution_count": 93,
     "metadata": {},
     "output_type": "execute_result"
    }
   ],
   "source": [
    "df_f['_merge'].value_counts(dropna = False)"
   ]
  },
  {
   "cell_type": "code",
   "execution_count": 95,
   "id": "ca50169b-24fa-4f96-bec1-6f5547295ea9",
   "metadata": {},
   "outputs": [],
   "source": [
    "df_f = df_f[df_f['_merge'] =='both']"
   ]
  },
  {
   "cell_type": "code",
   "execution_count": 97,
   "id": "0bc9f750-8c2b-4da4-ab91-5f8b5690c3c6",
   "metadata": {},
   "outputs": [],
   "source": [
    "df_f.drop(columns = {'_merge'}, inplace = True)"
   ]
  },
  {
   "cell_type": "code",
   "execution_count": 99,
   "id": "b4d504c9-9592-4907-8f81-c76e45e2697f",
   "metadata": {},
   "outputs": [
    {
     "data": {
      "text/html": [
       "<div>\n",
       "<style scoped>\n",
       "    .dataframe tbody tr th:only-of-type {\n",
       "        vertical-align: middle;\n",
       "    }\n",
       "\n",
       "    .dataframe tbody tr th {\n",
       "        vertical-align: top;\n",
       "    }\n",
       "\n",
       "    .dataframe thead th {\n",
       "        text-align: right;\n",
       "    }\n",
       "</style>\n",
       "<table border=\"1\" class=\"dataframe\">\n",
       "  <thead>\n",
       "    <tr style=\"text-align: right;\">\n",
       "      <th></th>\n",
       "      <th>start_station_name</th>\n",
       "      <th>end_station_name</th>\n",
       "      <th>trips</th>\n",
       "      <th>start_lat</th>\n",
       "      <th>start_lon</th>\n",
       "      <th>end_lat</th>\n",
       "      <th>end_lon</th>\n",
       "    </tr>\n",
       "  </thead>\n",
       "  <tbody>\n",
       "    <tr>\n",
       "      <th>0</th>\n",
       "      <td>1 Ave &amp; E 110 St</td>\n",
       "      <td>1 Ave &amp; E 110 St</td>\n",
       "      <td>791.0</td>\n",
       "      <td>40.792362</td>\n",
       "      <td>-73.938196</td>\n",
       "      <td>40.792327</td>\n",
       "      <td>-73.9383</td>\n",
       "    </tr>\n",
       "    <tr>\n",
       "      <th>1</th>\n",
       "      <td>1 Ave &amp; E 16 St</td>\n",
       "      <td>1 Ave &amp; E 110 St</td>\n",
       "      <td>5.0</td>\n",
       "      <td>40.732255</td>\n",
       "      <td>-73.981639</td>\n",
       "      <td>40.792327</td>\n",
       "      <td>-73.9383</td>\n",
       "    </tr>\n",
       "    <tr>\n",
       "      <th>2</th>\n",
       "      <td>1 Ave &amp; E 18 St</td>\n",
       "      <td>1 Ave &amp; E 110 St</td>\n",
       "      <td>6.0</td>\n",
       "      <td>40.734081</td>\n",
       "      <td>-73.980427</td>\n",
       "      <td>40.792327</td>\n",
       "      <td>-73.9383</td>\n",
       "    </tr>\n",
       "    <tr>\n",
       "      <th>3</th>\n",
       "      <td>1 Ave &amp; E 30 St</td>\n",
       "      <td>1 Ave &amp; E 110 St</td>\n",
       "      <td>25.0</td>\n",
       "      <td>40.741519</td>\n",
       "      <td>-73.975316</td>\n",
       "      <td>40.792327</td>\n",
       "      <td>-73.9383</td>\n",
       "    </tr>\n",
       "    <tr>\n",
       "      <th>4</th>\n",
       "      <td>1 Ave &amp; E 39 St</td>\n",
       "      <td>1 Ave &amp; E 110 St</td>\n",
       "      <td>78.0</td>\n",
       "      <td>40.747330</td>\n",
       "      <td>-73.971051</td>\n",
       "      <td>40.792327</td>\n",
       "      <td>-73.9383</td>\n",
       "    </tr>\n",
       "  </tbody>\n",
       "</table>\n",
       "</div>"
      ],
      "text/plain": [
       "  start_station_name  end_station_name  trips  start_lat  start_lon  \\\n",
       "0   1 Ave & E 110 St  1 Ave & E 110 St  791.0  40.792362 -73.938196   \n",
       "1    1 Ave & E 16 St  1 Ave & E 110 St    5.0  40.732255 -73.981639   \n",
       "2    1 Ave & E 18 St  1 Ave & E 110 St    6.0  40.734081 -73.980427   \n",
       "3    1 Ave & E 30 St  1 Ave & E 110 St   25.0  40.741519 -73.975316   \n",
       "4    1 Ave & E 39 St  1 Ave & E 110 St   78.0  40.747330 -73.971051   \n",
       "\n",
       "     end_lat  end_lon  \n",
       "0  40.792327 -73.9383  \n",
       "1  40.792327 -73.9383  \n",
       "2  40.792327 -73.9383  \n",
       "3  40.792327 -73.9383  \n",
       "4  40.792327 -73.9383  "
      ]
     },
     "execution_count": 99,
     "metadata": {},
     "output_type": "execute_result"
    }
   ],
   "source": [
    "df_f.head()"
   ]
  },
  {
   "cell_type": "code",
   "execution_count": 101,
   "id": "06cfe41e-76d9-427d-a1c0-dcff559f2ef8",
   "metadata": {},
   "outputs": [
    {
     "data": {
      "text/plain": [
       "(1013397, 7)"
      ]
     },
     "execution_count": 101,
     "metadata": {},
     "output_type": "execute_result"
    }
   ],
   "source": [
    "df_f.shape"
   ]
  },
  {
   "cell_type": "markdown",
   "id": "e503376d-5fd0-4bd7-b14e-3e56f10e9de2",
   "metadata": {},
   "source": [
    "## Part 4-6"
   ]
  },
  {
   "cell_type": "markdown",
   "id": "5b3229be-a39d-47b7-8802-7260b003dcb4",
   "metadata": {},
   "source": [
    " "
   ]
  },
  {
   "cell_type": "code",
   "execution_count": 106,
   "id": "11ec216d-e597-4841-8f99-a8fb5247dba1",
   "metadata": {},
   "outputs": [
    {
     "name": "stdout",
     "output_type": "stream",
     "text": [
      "User Guide: https://docs.kepler.gl/docs/keplergl-jupyter\n"
     ]
    }
   ],
   "source": [
    "# Create KeplerGl instance\n",
    "\n",
    "m = KeplerGl(height = 700, data={\"data_1\": df_f})"
   ]
  },
  {
   "cell_type": "code",
   "execution_count": 108,
   "id": "cc745f3f-0a57-4dfa-b43a-45f799c25754",
   "metadata": {},
   "outputs": [
    {
     "data": {
      "application/vnd.jupyter.widget-view+json": {
       "model_id": "c9cad7ad8ca94ea5b9c13c60c6c7e4d1",
       "version_major": 2,
       "version_minor": 0
      },
      "text/plain": [
       "KeplerGl(data={'data_1':                   start_station_name       end_station_name   trips  \\\n",
       "0             …"
      ]
     },
     "metadata": {},
     "output_type": "display_data"
    }
   ],
   "source": [
    "m"
   ]
  },
  {
   "cell_type": "markdown",
   "id": "72035db1-d016-4f83-ad14-183f7c4c191e",
   "metadata": {},
   "source": [
    "The changes that I made to this map incloud adding an ark inbetween the start and end points, as well as changing the colors of both the points and the arks. I did this so that the map is easies to understand. The color of the arks change from purple to yellow to show the start and end of each trip. And the points also shares this purple and yellow color scheme, though the points have a darker color to help make them stand out more."
   ]
  },
  {
   "cell_type": "markdown",
   "id": "8d2be0d6-8f60-4f79-9d8c-2d422cc6cdda",
   "metadata": {},
   "source": [
    "After filtering the map to only show trips that were taken more than 3,000 times during 2022, this is what I found. A lot of trips are located arounf Central Park, a massive location that tones of people visit every day. Yet there are even more parks dotted around the west side of Manhattan jutting out into the river. The South West corner of Manhattan has lots of popular torist locations, like the World Trade Center. And Other high trip routs are located near schools, hospitals, and libraries."
   ]
  },
  {
   "cell_type": "markdown",
   "id": "f8c134ed-ec71-45b5-81c9-a680b190cd6e",
   "metadata": {},
   "source": [
    "## Part 7"
   ]
  },
  {
   "cell_type": "markdown",
   "id": "2cb6b74b-4e72-4720-b34b-4e411978a837",
   "metadata": {},
   "source": [
    " "
   ]
  },
  {
   "cell_type": "code",
   "execution_count": 116,
   "id": "d09ef32f-3fa5-43d5-97aa-f8948cdc0593",
   "metadata": {},
   "outputs": [],
   "source": [
    "# Saving the map\n",
    "\n",
    "config = m.config"
   ]
  },
  {
   "cell_type": "code",
   "execution_count": 119,
   "id": "cc0545c0-c555-4685-84dd-5243aa4d7e7b",
   "metadata": {},
   "outputs": [],
   "source": [
    "import json\n",
    "with open(\"config.json\", \"w\") as outfile:\n",
    "    json.dump(config, outfile)"
   ]
  },
  {
   "cell_type": "code",
   "execution_count": 122,
   "id": "e0d1eadd-01f3-49ac-b938-c751f7201931",
   "metadata": {},
   "outputs": [
    {
     "name": "stdout",
     "output_type": "stream",
     "text": [
      "Map saved to New York Bike Trips Aggregated.html!\n"
     ]
    }
   ],
   "source": [
    "m.save_to_html(file_name = 'New York Bike Trips Aggregated.html', read_only = False, config = config)"
   ]
  },
  {
   "cell_type": "code",
   "execution_count": null,
   "id": "9499b109-7128-4ba7-92b4-6932797d8655",
   "metadata": {},
   "outputs": [],
   "source": []
  }
 ],
 "metadata": {
  "kernelspec": {
   "display_name": "Python [conda env:base] *",
   "language": "python",
   "name": "conda-base-py"
  },
  "language_info": {
   "codemirror_mode": {
    "name": "ipython",
    "version": 3
   },
   "file_extension": ".py",
   "mimetype": "text/x-python",
   "name": "python",
   "nbconvert_exporter": "python",
   "pygments_lexer": "ipython3",
   "version": "3.12.3"
  }
 },
 "nbformat": 4,
 "nbformat_minor": 5
}
